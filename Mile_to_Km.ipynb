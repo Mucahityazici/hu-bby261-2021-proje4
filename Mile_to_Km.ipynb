{
  "nbformat": 4,
  "nbformat_minor": 0,
  "metadata": {
    "colab": {
      "name": "Mile to Km.ipynb",
      "provenance": [],
      "authorship_tag": "ABX9TyPAo4sxJN1RCpFrDxUikJxC",
      "include_colab_link": true
    },
    "kernelspec": {
      "name": "python3",
      "display_name": "Python 3"
    },
    "language_info": {
      "name": "python"
    }
  },
  "cells": [
    {
      "cell_type": "markdown",
      "metadata": {
        "id": "view-in-github",
        "colab_type": "text"
      },
      "source": [
        "<a href=\"https://colab.research.google.com/github/Mucahityazici/hu-bby261-2021-proje4/blob/main/Mile_to_Km.ipynb\" target=\"_parent\"><img src=\"https://colab.research.google.com/assets/colab-badge.svg\" alt=\"Open In Colab\"/></a>"
      ]
    },
    {
      "cell_type": "code",
      "execution_count": 2,
      "metadata": {
        "colab": {
          "base_uri": "https://localhost:8080/",
          "height": 487
        },
        "id": "EeiyUPrqzV-P",
        "outputId": "32226083-14b8-47f0-9610-72f65fbcfbad"
      },
      "outputs": [
        {
          "output_type": "stream",
          "name": "stdout",
          "text": [
            "1.0 degrees Mile = 1.609344 degrees Km\n",
            "2.0 degrees Mile = 3.218688 degrees Km\n",
            "3.0 degrees Mile = 4.828032 degrees Km\n",
            "4.0 degrees Mile = 6.437376 degrees Km\n",
            "5.0 degrees Mile = 8.04672 degrees Km\n",
            "6.0 degrees Mile = 9.656064 degrees Km\n",
            "7.0 degrees Mile = 11.265408 degrees Km\n",
            "8.0 degrees Mile = 12.874752 degrees Km\n",
            "9.0 degrees Mile = 14.484096 degrees Km\n",
            "10.0 degrees Mile = 16.09344 degrees Km\n",
            "Finished training the model\n",
            "[[160.93393]]\n"
          ]
        },
        {
          "output_type": "display_data",
          "data": {
            "image/png": "[encoded data removed]",
            "text/plain": [
              "<Figure size 432x288 with 1 Axes>"
            ]
          },
          "metadata": {
            "needs_background": "light"
          }
        }
      ],
      "source": [
        "import tensorflow as tf\n",
        "import numpy as np\n",
        "import logging\n",
        "import matplotlib.pyplot as plt\n",
        "\n",
        "logger = tf.get_logger()\n",
        "logger.setLevel(logging.ERROR)\n",
        "\n",
        "Mile_q    = np.array([1, 2,  3,  4, 5, 6,  7, 8 , 9, 10],  dtype=float)\n",
        "Km_a = np.array([1.609344,  3.218688, 4.828032, 6.437376, 8.04672, 9.656064, 11.265408, 12.874752, 14.484096, 16.09344],  dtype=float)\n",
        "\n",
        "for i,c in enumerate(Mile_q):\n",
        "  print(\"{} degrees Mile = {} degrees Km\".format(c, Km_a[i]))\n",
        "\n",
        "l0 = tf.keras.layers.Dense(units=1, input_shape=[1])\n",
        "\n",
        "model = tf.keras.Sequential([l0])\n",
        "model.compile(loss='mean_squared_error',\n",
        "              optimizer=tf.keras.optimizers.Adam(0.1))\n",
        "\n",
        "history = model.fit(Mile_q, Km_a, epochs=500, verbose=False)\n",
        "\n",
        "print(\"Finished training the model\")\n",
        "\n",
        "plt.xlabel('Epoch Number')\n",
        "plt.ylabel(\"Loss Magnitude\")\n",
        "plt.plot(history.history['loss'])\n",
        "\n",
        "print(model.predict([100.0]))"
      ]
    }
  ]
}